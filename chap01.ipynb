{
 "cells": [
  {
   "cell_type": "markdown",
   "metadata": {},
   "source": [
    "# 第一章 さあ、始めよう！"
   ]
  },
  {
   "cell_type": "markdown",
   "metadata": {},
   "source": [
    "コンピュータは2つのこと(だけ)をする\n",
    "\n",
    "1. 計算をすること\n",
    "2. 計算結果を覚えておくこと"
   ]
  },
  {
   "cell_type": "markdown",
   "metadata": {},
   "source": [
    "「計算的な思考」とは何か？\n",
    "\n",
    "「すべての知識は以下のいずれかに分類できる」とのこと\n",
    "\n",
    "* 宣言的 (declarative)\n",
    "* 命令的 (imperative)"
   ]
  },
  {
   "cell_type": "markdown",
   "metadata": {},
   "source": [
    "アルゴリズムとは\n",
    "\n",
    "* (与えられた入力を明確に定義された状態へと変更し、最終的には結果を出力する)**計算法**(computation)を記述した命令の有限個のリスト"
   ]
  },
  {
   "cell_type": "code",
   "execution_count": null,
   "metadata": {},
   "outputs": [],
   "source": []
  }
 ],
 "metadata": {
  "kernelspec": {
   "display_name": "Python 3",
   "language": "python",
   "name": "python3"
  },
  "language_info": {
   "codemirror_mode": {
    "name": "ipython",
    "version": 3
   },
   "file_extension": ".py",
   "mimetype": "text/x-python",
   "name": "python",
   "nbconvert_exporter": "python",
   "pygments_lexer": "ipython3",
   "version": "3.6.2"
  }
 },
 "nbformat": 4,
 "nbformat_minor": 2
}
